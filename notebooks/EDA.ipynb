{
  "cells": [
    {
      "cell_type": "markdown",
      "metadata": {},
      "source": [
        "# COVID-19 EDA\n",
        "\n",
        "Basic exploratory analysis using the processed OWID dataset.\n",
        "\n",
        "Run `python scripts/fetch_data.py` first to generate `data/covid_processed.parquet`.  \n"
      ]
    },
    {
      "cell_type": "code",
      "execution_count": null,
      "metadata": {},
      "outputs": [],
      "source": [
        "import os\n",
        "import pandas as pd\n",
        "import plotly.express as px\n",
        "\n",
        "DATA_PATH = os.path.join(\"data\", \"covid_processed.parquet\")\n",
        "assert os.path.exists(DATA_PATH), \"Run: python scripts/fetch_data.py\"\n",
        "\n",
        "df = pd.read_parquet(DATA_PATH)\n",
        "df.head()\n"
      ]
    },
    {
      "cell_type": "code",
      "execution_count": null,
      "metadata": {},
      "outputs": [],
      "source": [
        "df.info()\n"
      ]
    },
    {
      "cell_type": "code",
      "execution_count": null,
      "metadata": {},
      "outputs": [],
      "source": [
        "country = \"United States\"\n",
        "metric = \"new_cases_per_100k\"\n",
        "\n",
        "cdf = df[df[\"location\"] == country].sort_values(\"date\")\n",
        "fig = px.line(cdf, x=\"date\", y=metric, title=f\"{country} — {metric}\")\n",
        "fig.show()\n"
      ]
    }
  ],
  "metadata": {
    "language_info": {
      "name": "python"
    }
  },
  "nbformat": 4,
  "nbformat_minor": 2
}
